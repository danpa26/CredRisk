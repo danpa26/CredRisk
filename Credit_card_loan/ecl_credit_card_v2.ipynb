{
 "cells": [
  {
   "cell_type": "markdown",
   "metadata": {},
   "source": [
    "### Calculator of credit card loan"
   ]
  },
  {
   "cell_type": "markdown",
   "metadata": {},
   "source": [
    "## AJUSTAR CALCULO DE ATR"
   ]
  },
  {
   "cell_type": "markdown",
   "metadata": {},
   "source": [
    "##### This is the code about the expected credit loss for a credit card loan according with the mexican regulation.\n",
    "##### It can use just for one credit, like a calculator for one credit"
   ]
  },
  {
   "cell_type": "markdown",
   "metadata": {},
   "source": [
    "##### The next values can move, there are the conditions of the credit"
   ]
  },
  {
   "cell_type": "code",
   "execution_count": 1,
   "metadata": {},
   "outputs": [],
   "source": [
    "# historial payment of the first six months\n",
    "min_pmt_req1 = 1390\n",
    "min_pmt_req2 = 1390\n",
    "min_pmt_req3 = 1390\n",
    "min_pmt_req4 = 1390\n",
    "min_pmt_req5 = 1390\n",
    "min_pmt_req6 = 1390\n",
    "# historial expected paid balance of the first six months\n",
    "bal_exp1 = 10000\n",
    "bal_exp2 = 10000\n",
    "bal_exp3 = 10000\n",
    "bal_exp4 = 10000\n",
    "bal_exp5 = 10000\n",
    "bal_exp6 = 10000\n",
    "# historial real balance paid of the first six months\n",
    "bal_realp1 = 8000\n",
    "bal_realp2 = 10000\n",
    "bal_realp3 = 10000\n",
    "bal_realp4 = 10000\n",
    "bal_realp5 = 10000\n",
    "bal_realp6 = 10000"
   ]
  },
  {
   "cell_type": "code",
   "execution_count": 2,
   "metadata": {},
   "outputs": [],
   "source": [
    "# Inputs of the credit loan\n",
    "min_pmt_req = min_pmt_req1\n",
    "an_int_rate = 61 # it must be integer value\n",
    "age = 42\n",
    "cred_lim = 111000\n",
    "bal_use = 30000\n",
    "card_blok = 0 \n",
    "restr = 0 # this option is an unresolved issue\n",
    "bkatr = 13 # how many consecutive months has the credit/account been in current\n",
    "bal_bur = 30000\n",
    "bal_int = 0 # this option is an unresolved issue"
   ]
  },
  {
   "cell_type": "markdown",
   "metadata": {},
   "source": [
    "##### The next values can not move, there are fixed"
   ]
  },
  {
   "cell_type": "code",
   "execution_count": 3,
   "metadata": {},
   "outputs": [],
   "source": [
    "# Probability of default\n",
    "# numeral 3i\n",
    "pdf_n3i = 0.0418\n",
    "# numeral 3ii \n",
    "pdf_n3ii_h = 0.0466\n",
    "pdf_n3ii_m = 0.0344\n",
    "pdf_n3ii_l = 0.0218\n",
    "# numeral 4\n",
    "pdf_n4_h = 0.0870\n",
    "pdf_n4_m = 0.0579\n",
    "pdf_n4_l = 0.0312"
   ]
  },
  {
   "cell_type": "code",
   "execution_count": 4,
   "metadata": {},
   "outputs": [],
   "source": [
    "# Loss given default\n",
    "lgd_n3i = 0.67 # numeral 3\n",
    "lgd_n3ii_num4 = 0.70 # numeral 4\n",
    "lgd_elt4 = 0.75 # bucket <= 4 (days past due) \n",
    "lgd_b45 = 0.77 # between 4 and 5 \n",
    "lgd_b56 = 0.80 # between 5 and 6 \n",
    "lgd_b67 = 0.82 # between 6 and 7 \n",
    "lgd_b78 = 0.86 # between 7 and 8 \n",
    "lgd_b89 = 0.90 # between 8 and 9 \n",
    "lgd_b910 = 0.92 # between 9 and 10 \n",
    "lgd_b1011 = 0.96 # between 10 and 11\n",
    "lgd_gt11 = 1.0 # greater than 11"
   ]
  },
  {
   "cell_type": "code",
   "execution_count": 5,
   "metadata": {},
   "outputs": [],
   "source": [
    "# Expousure at default\n",
    "ead_n1_a = 1.0260\n",
    "ead_n1_b = -0.5434\n",
    "ead_n1_c = 1.0\n",
    "ead_n1_d = 0.1379\n",
    "ead_n2ii_a = 0.4267\n",
    "ead_num3_a = 0.5181"
   ]
  },
  {
   "cell_type": "code",
   "execution_count": 6,
   "metadata": {},
   "outputs": [],
   "source": [
    "# level of risk\n",
    "v_age = 42\n",
    "v1_crlim = 15000\n",
    "v2_crlim = 40000\n",
    "# Gveces\n",
    "min_p = 640\n",
    "k = 2.2\n",
    "# Betas values\n",
    "b0 = -2.1859\n",
    "b1 = 0.7864\n",
    "b2 = 0.3978\n",
    "b3 = 0.8731\n",
    "b4 = - 0.4112\n",
    "b5 = 0.2912\n",
    "b6 = - 0.0294\n",
    "b7 = - 0.2618\n",
    "b8 = - 0.1567\n",
    "b9 = 0.0238\n",
    "b10 = 0.1329\n",
    "b11 = - 0.0855"
   ]
  },
  {
   "cell_type": "markdown",
   "metadata": {},
   "source": [
    "## Libraries"
   ]
  },
  {
   "cell_type": "code",
   "execution_count": 7,
   "metadata": {},
   "outputs": [],
   "source": [
    "import numpy as np\n",
    "import math as math"
   ]
  },
  {
   "cell_type": "markdown",
   "metadata": {},
   "source": [
    "### Main parameters to obtain the PD, EAD and LGD"
   ]
  },
  {
   "cell_type": "markdown",
   "metadata": {},
   "source": [
    "#### Items for the parameters, these can have a different value according with the characteristic of the credit loan"
   ]
  },
  {
   "cell_type": "code",
   "execution_count": 8,
   "metadata": {},
   "outputs": [],
   "source": [
    "bukt1 = (bal_exp1 - bal_realp1) / min_pmt_req1\n",
    "bukt2 = (bal_exp2 - bal_realp2) / min_pmt_req2\n",
    "bukt3 = (bal_exp3 - bal_realp3) / min_pmt_req3\n",
    "bukt4 = (bal_exp4 - bal_realp4) / min_pmt_req4\n",
    "bukt5 = (bal_exp5 - bal_realp5) / min_pmt_req5\n",
    "bukt6 = (bal_exp6 - bal_realp6) / min_pmt_req6\n",
    "bal_use_fil = np.where((bal_use <= 0) | (bal_exp1 <= 0) ,0,bal_use)\n",
    "pct_use = bal_exp1 / cred_lim\n",
    "pct_paid = bal_realp1 / bal_exp1\n",
    "hist = np.where(bukt1 > 0,1,0) + np.where(bukt2 > 0,1,0) + np.where(bukt3 > 0,1,0) + np.where(bukt4 > 0,1,0) + np.where(bukt5 > 0,1,0) \\\n",
    "      + np.where(bukt6 > 0,1,0)                                                                                     \n",
    "atr = math.ceil(bukt1) \n",
    "stage = np.where (atr < 0,.1,np.where (atr <= 1, 1,np.where(atr > 1 and atr <= 3,2, np.where(atr > 3,3,-1))))\n",
    "\n",
    "time_n = np.where ((bal_exp1 > 0 and -math.log( 1 - (bal_exp1 * an_int_rate/100)/(min_pmt_req1*12)) / math.log (1 + an_int_rate/100) <= 0),\\\n",
    "                   1, -math.log( 1 - (bal_exp1 * an_int_rate/100)/(min_pmt_req1*12)) / math.log (1 + an_int_rate/100))\n",
    "\n",
    "#- math.log( 1 - (bal_exp1 * an_int_rate/100)/(min_pmt_req1*12)) / math.log (1 + an_int_rate/100)"
   ]
  },
  {
   "cell_type": "code",
   "execution_count": null,
   "metadata": {},
   "outputs": [
    {
     "name": "stdout",
     "output_type": "stream",
     "text": [
      "0.955926707024352\n"
     ]
    }
   ],
   "source": [
    "#print (time_n)"
   ]
  },
  {
   "cell_type": "markdown",
   "metadata": {},
   "source": [
    "#### Numerales"
   ]
  },
  {
   "cell_type": "code",
   "execution_count": 9,
   "metadata": {},
   "outputs": [],
   "source": [
    "# Numeral 3\n",
    "num3 = np.where((bal_exp1 <= 0) and (bal_exp2 <= 0) and (bal_exp3 <= 0) and (bal_exp4 <= 0) ,1,0)\n",
    "# Numeral 3i\n",
    "num3i = np.where((num3 == 1) and (bal_realp1 == 0) and (bal_realp2 == 0) and (bal_realp3 == 0) and (bal_realp4 == 0) ,1,0)\n",
    "# Numeral 3ii\n",
    "num3ii = np.where((num3 == 1) and ((bal_realp1 > 0) | (bal_realp2 > 0) | (bal_realp3 > 0) | (bal_realp4 > 0)) ,1,0)\n",
    "# Numeral 4\n",
    "num4 = np.where((bal_exp1 <= 0) and ((bal_exp2 > 0) and (bal_exp3 > 0) and (bal_exp4 > 0)) ,1,0)\n",
    "# Numeral 5\n",
    "num5 = np.where((bal_use_fil == cred_lim) | (card_blok == 1) ,1,0)"
   ]
  },
  {
   "cell_type": "markdown",
   "metadata": {},
   "source": [
    "#### Risk Levels"
   ]
  },
  {
   "cell_type": "code",
   "execution_count": 10,
   "metadata": {},
   "outputs": [],
   "source": [
    "# High level\n",
    "high = np.where((age <= v_age) and (cred_lim <= v1_crlim) ,1,0)\n",
    "# Medium Level\n",
    "medium = np.where(((age <= v_age) and (cred_lim > v2_crlim)) | ((age > v_age) and (cred_lim <= v1_crlim)) | ((cred_lim > v1_crlim) and (cred_lim <= v2_crlim)) ,1,0)\n",
    "# Low Level\n",
    "low = np.where((age > v_age) and (cred_lim > v1_crlim) ,1,0)"
   ]
  },
  {
   "cell_type": "markdown",
   "metadata": {},
   "source": [
    "#### Gveces"
   ]
  },
  {
   "cell_type": "code",
   "execution_count": 11,
   "metadata": {},
   "outputs": [],
   "source": [
    "gveces1 = np.where((min_pmt_req <= min_p),1,0)\n",
    "gveces2 = np.where((min_pmt_req > min_p) and ((bal_bur/min_pmt_req) < k) ,1,0)\n",
    "gveces3 = np.where((min_pmt_req > min_p) and ((bal_bur/min_pmt_req) >= k) ,1,0)"
   ]
  },
  {
   "cell_type": "markdown",
   "metadata": {},
   "source": [
    "#### Calculate of EAD"
   ]
  },
  {
   "cell_type": "code",
   "execution_count": 12,
   "metadata": {},
   "outputs": [],
   "source": [
    "ead_pre_n1_bgcl = np.where((bal_use_fil > cred_lim),bal_use_fil,-998)\n",
    "\n",
    "ead_pre_num1_max = np.where ((bal_use_fil != 0 and bal_use_fil < cred_lim ),\\\n",
    "  max(bal_use_fil * max(ead_n1_a * (bal_use_fil/cred_lim)**(ead_n1_b),ead_n1_c),bal_use_fil + ead_n1_d*(cred_lim - bal_use_fil)),-998)\n",
    "\n",
    "ead_pre_num3i = np.where (num3i == 1, bal_use_fil + 1*(cred_lim - bal_use_fil),-998)\n",
    "\n",
    "ead_pre_num3ii = np.where (num3ii == 1, bal_use_fil + ead_n2ii_a * (cred_lim - bal_use_fil ),-998)\n",
    "\n",
    "ead_pre_num4 = np.where (num4 == 1, bal_use_fil + ead_num3_a * (cred_lim - bal_use_fil ),-998)\n",
    "\n",
    "ead_pre_num5 = np.where (num5 == 1, bal_use_fil, -998)\n",
    "\n",
    "ead_final = max (ead_pre_n1_bgcl,ead_pre_num1_max,ead_pre_num3i,ead_pre_num3ii,ead_pre_num4,ead_pre_num5)"
   ]
  },
  {
   "cell_type": "markdown",
   "metadata": {},
   "source": [
    "#### Calculate of SP"
   ]
  },
  {
   "cell_type": "code",
   "execution_count": 13,
   "metadata": {},
   "outputs": [],
   "source": [
    "sp_pre_num1 =  np.where((num3 != 0 | num3i != 0 | num3ii != 0 | num4 != 0 ), -1, np.where(atr <= 4,lgd_elt4 ,-1)) \n",
    "\n",
    "sp_pre_num2 = np.where ((num3 != 0 | num3i != 0 | num3ii != 0 | num4 != 0 ), -1, \\\n",
    "            np.where ((atr > 4 and atr <=5),lgd_b45,np.where ((atr > 5 and atr <=6),lgd_b56, np.where ((atr > 6 and atr <=7),lgd_b67,\\\n",
    "            np.where ((atr > 7 and atr <=8),lgd_b78, np.where ((atr > 8 and atr <=9),lgd_b89, np.where ((atr > 9 and atr <=10),lgd_b910,\\\n",
    "            np.where ((atr > 10 and atr <=11),lgd_b1011, np.where (atr > 11,lgd_gt11, -1 )))))))))\n",
    "\n",
    "sp_pre_num3i = np.where(num3i == 1, lgd_n3i, -1)\n",
    "\n",
    "sp_pre_num3ii = np.where(num3ii == 1, lgd_n3ii_num4, -1)\n",
    "\n",
    "sp_pre_num4 = np.where (num4 == 1, lgd_n3ii_num4, -1)\n",
    "\n",
    "sp_final = max(sp_pre_num1,sp_pre_num2,sp_pre_num3i,sp_pre_num3ii,sp_pre_num4)"
   ]
  },
  {
   "cell_type": "markdown",
   "metadata": {},
   "source": [
    "#### Calculate Z value"
   ]
  },
  {
   "cell_type": "code",
   "execution_count": 14,
   "metadata": {},
   "outputs": [],
   "source": [
    "Z = - ( b0 + b1*atr + b2*hist + b3*pct_use + b4*pct_paid + b5*high + \\\n",
    "    b6*medium + b7*low + b8*gveces1 + b9*gveces2 + b10*gveces3 + b11*bkatr)"
   ]
  },
  {
   "cell_type": "markdown",
   "metadata": {},
   "source": [
    "#### Calculate of PD "
   ]
  },
  {
   "cell_type": "code",
   "execution_count": 15,
   "metadata": {},
   "outputs": [],
   "source": [
    "pdf_pre_atrmay3 = np.where ((num3i != 0 | num3ii != 0 | num4 != 0), -1, np.where (atr > 3,1,-1))\n",
    "\n",
    "pdf_pre_atrmen3 = np.where ((num3i != 0 | num3ii != 0 | num4 != 0), -1, np.where (atr <= 3, 1 / (1 + math.e**(Z)), -1))\n",
    "\n",
    "pdf_pre_num3i = np.where (num3i == 1, pdf_n3i, -1)\n",
    "\n",
    "pdf_pre_num3ii = np.where (num3ii == 1, np.where (high == 1,pdf_n3ii_h, np.where (medium == 1,pdf_n3ii_m,\\\n",
    "                np.where (low ==1, pdf_n3ii_l,-1))),-1)\n",
    "\n",
    "pdf_pre_num4 = np.where (num4 == 1, np.where (high == 1,pdf_n4_h, np.where (medium == 1,pdf_n4_m,\\\n",
    "                np.where (low ==1, pdf_n4_l,-1))),-1)\n",
    "\n",
    "pdf_final = max(pdf_pre_atrmay3,pdf_pre_atrmen3,pdf_pre_num3i,pdf_pre_num3ii,pdf_pre_num4)"
   ]
  },
  {
   "cell_type": "markdown",
   "metadata": {},
   "source": [
    "#### Calulate of ECL"
   ]
  },
  {
   "cell_type": "code",
   "execution_count": null,
   "metadata": {},
   "outputs": [],
   "source": [
    "# terminar de calcular el n considerando el posible error en la formula\n",
    "# terminar de calcular la reserva\n",
    "# hacer casos de prueba"
   ]
  },
  {
   "cell_type": "code",
   "execution_count": 21,
   "metadata": {},
   "outputs": [
    {
     "data": {
      "text/plain": [
       "numpy.ndarray"
      ]
     },
     "execution_count": 21,
     "metadata": {},
     "output_type": "execute_result"
    }
   ],
   "source": [
    "type(stage)"
   ]
  },
  {
   "cell_type": "code",
   "execution_count": null,
   "metadata": {},
   "outputs": [],
   "source": [
    "ecl_trad = ead_final * sp_final * pdf_final\n",
    "item_a = (ead_final * sp_final * pdf_final)/(1 + an_int_rate/100) * ((1 - (1 - pdf_final) ** (time_n)) / pdf_final)\n",
    "item_b = (sp_final * pdf_final * min_pmt_req1 * 12) / ((1 + an_int_rate/100) * an_int_rate/100) *\\\n",
    "         ((1- (1 - pdf_final)**(time_n))/pdf_final)\n",
    "item_c = (sp_final * pdf_final * min_pmt_req1 * 12) / ((pdf_final + an_int_rate/100) * an_int_rate/100 ) *\\\n",
    "         (1 - ((1 - pdf_final) / (1 + an_int_rate/100)) ** (time_n))\n",
    "ecl_ltime =  item_a - item_b + item_c\n",
    "ecl_stage2 = max (ecl_trad, item_a - item_b + item_c)\n",
    "ecl_final = np.where (stage == 1 or stage == 3,ecl_trad, ecl_stage2 ) "
   ]
  },
  {
   "cell_type": "code",
   "execution_count": 45,
   "metadata": {},
   "outputs": [
    {
     "name": "stdout",
     "output_type": "stream",
     "text": [
      "8760.45|5244.94\n"
     ]
    }
   ],
   "source": [
    "print(np.round(ecl_final,decimals = 2),np.round(ecl_ltime,decimals = 2 ), sep = \"|\")"
   ]
  },
  {
   "cell_type": "code",
   "execution_count": 42,
   "metadata": {},
   "outputs": [
    {
     "data": {
      "text/plain": [
       "numpy.ndarray"
      ]
     },
     "execution_count": 42,
     "metadata": {},
     "output_type": "execute_result"
    }
   ],
   "source": [
    "type(ecl_final)"
   ]
  },
  {
   "cell_type": "code",
   "execution_count": null,
   "metadata": {},
   "outputs": [],
   "source": []
  }
 ],
 "metadata": {
  "kernelspec": {
   "display_name": "Python 3",
   "language": "python",
   "name": "python3"
  },
  "language_info": {
   "codemirror_mode": {
    "name": "ipython",
    "version": 3
   },
   "file_extension": ".py",
   "mimetype": "text/x-python",
   "name": "python",
   "nbconvert_exporter": "python",
   "pygments_lexer": "ipython3",
   "version": "3.11.5"
  }
 },
 "nbformat": 4,
 "nbformat_minor": 2
}
