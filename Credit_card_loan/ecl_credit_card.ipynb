{
 "cells": [
  {
   "cell_type": "markdown",
   "metadata": {},
   "source": [
    "### Calculator of credit card loan"
   ]
  },
  {
   "cell_type": "markdown",
   "metadata": {},
   "source": [
    "##### This is the code about the expected credit loss for a credit card loan according with the mexican regulation.\n",
    "##### It can use just for one credit, like a calculator for one credit"
   ]
  },
  {
   "cell_type": "markdown",
   "metadata": {},
   "source": [
    "##### The next values can move, there are the conditions of the credit"
   ]
  },
  {
   "cell_type": "code",
   "execution_count": 9,
   "metadata": {},
   "outputs": [],
   "source": [
    "# historial payment of the first six months\n",
    "min_pmt_req1 = 1390\n",
    "min_pmt_req2 = 1390\n",
    "min_pmt_req3 = 1390\n",
    "min_pmt_req4 = 1390\n",
    "min_pmt_req5 = 1390\n",
    "min_pmt_req6 = 1390\n",
    "# historial expected paid balance of the first six months\n",
    "bal_exp1 = 10000\n",
    "bal_exp2 = 10000\n",
    "bal_exp3 = 10000\n",
    "bal_exp4 = 10000\n",
    "bal_exp5 = 10000\n",
    "bal_exp6 = 10000\n",
    "# historial real balance paid of the first six months\n",
    "bal_realp1 = 8000\n",
    "bal_realp2 = 10000\n",
    "bal_realp3 = 10000\n",
    "bal_realp4 = 10000\n",
    "bal_realp5 = 10000\n",
    "bal_realp6 = 10000"
   ]
  },
  {
   "cell_type": "code",
   "execution_count": 8,
   "metadata": {},
   "outputs": [],
   "source": [
    "# Inputs of the credit loan\n",
    "min_pmt_req = min_pmt_req1\n",
    "an_int_rate = 61 # it must be integer value\n",
    "age = 42\n",
    "cred_lim = 111000\n",
    "bal_use = 30000\n",
    "card_blok = 0 \n",
    "restr = 0 # this option is an unresolved issue\n",
    "bkatr = 13 # how many consecutive months has the credit/account been in current\n",
    "bal_bur = 30000\n",
    "bal_int = 0 # this option is an unresolved issue"
   ]
  },
  {
   "cell_type": "markdown",
   "metadata": {},
   "source": [
    "##### The next values can not move, there are fixed"
   ]
  },
  {
   "cell_type": "code",
   "execution_count": 2,
   "metadata": {},
   "outputs": [],
   "source": [
    "# Probability of default\n",
    "# numeral 3i\n",
    "pdf_n3i = 0.0418\n",
    "# numeral 3ii \n",
    "pdf_n3ii_a = 0.0466\n",
    "pdf_n3ii_m = 0.0344\n",
    "pdf_n3ii_b = 0.0218\n",
    "# numeral 4\n",
    "pdf_n4_a = 0.0870\n",
    "pdf_n4_m = 0.0579\n",
    "pdf_n4_b = 0.0312"
   ]
  },
  {
   "cell_type": "code",
   "execution_count": 3,
   "metadata": {},
   "outputs": [],
   "source": [
    "# Loss given default\n",
    "lgd_n3 = 0.67 # numeral 3\n",
    "lgd_n4 = 0.70 # numeral 4\n",
    "lgd_elt4 = 0.75 # bucket <= 4 (days past due) \n",
    "lgd_b45 = 0.77 # between 4 and 5 \n",
    "lgd_b56 = 0.80 # between 5 and 6 \n",
    "lgd_b67 = 0.82 # between 6 and 7 \n",
    "lgd_b78 = 0.86 # between 7 and 8 \n",
    "lgd_b89 = 0.90 # between 8 and 9 \n",
    "lgd_b910 = 0.92 # between 9 and 10 \n",
    "lgd_b1011 = 0.96 # between 10 and 11\n",
    "lgd_gt11 = 1.0 # greater than 11"
   ]
  },
  {
   "cell_type": "code",
   "execution_count": 4,
   "metadata": {},
   "outputs": [],
   "source": [
    "# Expousure at default\n",
    "ead_n1_a = 1.0260\n",
    "ead_n1_b = -0.5434\n",
    "ead_n1_c = 1.0\n",
    "ead_n1_d = 0.1379"
   ]
  },
  {
   "cell_type": "code",
   "execution_count": 6,
   "metadata": {},
   "outputs": [],
   "source": [
    "# level of risk\n",
    "v_age = 42\n",
    "v1_crlim = 15000\n",
    "v2_crlim = 40000\n",
    "# Gveces\n",
    "min_p = 640\n",
    "k = 2.2\n",
    "# Betas values\n",
    "b0 = -2.1859\n",
    "b1 = 0.7864\n",
    "b2 = 0.3978\n",
    "b3 = 0.8731\n",
    "b4 = -0.4112\n",
    "b5 = 0.2912\n",
    "b6 = -0.0294\n",
    "b7 = -0.2618\n",
    "b8 = -0.1567\n",
    "b9 = 0.0238\n",
    "b10 = 0.1329\n",
    "b11 = -0.0855"
   ]
  },
  {
   "cell_type": "markdown",
   "metadata": {},
   "source": [
    "## Libraries"
   ]
  },
  {
   "cell_type": "code",
   "execution_count": 10,
   "metadata": {},
   "outputs": [],
   "source": [
    "import numpy as np"
   ]
  },
  {
   "cell_type": "markdown",
   "metadata": {},
   "source": [
    "### Main parameters to obtain the PD, EAD and LGD"
   ]
  },
  {
   "cell_type": "markdown",
   "metadata": {},
   "source": [
    "#### Items for the parameters, these can have a different value according with the characteristic of the credit loan"
   ]
  },
  {
   "cell_type": "code",
   "execution_count": 34,
   "metadata": {},
   "outputs": [],
   "source": [
    "bukt1 = (bal_exp1 - bal_realp1) / min_pmt_req1\n",
    "bukt2 = (bal_exp2 - bal_realp2) / min_pmt_req2\n",
    "bukt3 = (bal_exp3 - bal_realp3) / min_pmt_req3\n",
    "bukt4 = (bal_exp4 - bal_realp4) / min_pmt_req4\n",
    "bukt5 = (bal_exp5 - bal_realp5) / min_pmt_req5\n",
    "bukt6 = (bal_exp6 - bal_realp6) / min_pmt_req6\n",
    "bal_use_fil = np.where((bal_use <= 0) | (bal_exp1 <= 0) ,0,bal_use)\n",
    "pct_uso = bal_exp1 / cred_lim\n",
    "pct_paid = bal_realp1 / bal_exp1\n",
    "hist = np.where(bukt1 > 0,1,0) + np.where(bukt2 > 0,1,0) + np.where(bukt3 > 0,1,0) + np.where(bukt4 > 0,1,0) + np.where(bukt5 > 0,1,0) \\\n",
    "      + np.where(bukt6 > 0,1,0)                                                                                     \n"
   ]
  },
  {
   "cell_type": "code",
   "execution_count": null,
   "metadata": {},
   "outputs": [],
   "source": [
    "## sigues con calculo de la logica para obtener pd,ead,lgd"
   ]
  },
  {
   "cell_type": "code",
   "execution_count": 35,
   "metadata": {},
   "outputs": [
    {
     "name": "stdout",
     "output_type": "stream",
     "text": [
      "1.4388489208633093\n",
      "0.0\n",
      "0.0\n",
      "0.0\n",
      "0.0\n",
      "0.0\n",
      "30000\n",
      "0.09009009009009009\n",
      "0.8\n",
      "1\n"
     ]
    },
    {
     "data": {
      "text/plain": [
       "(None, None, None, None, None, None, None, None, None, None)"
      ]
     },
     "execution_count": 35,
     "metadata": {},
     "output_type": "execute_result"
    }
   ],
   "source": [
    "print(bukt1),print(bukt2),print(bukt3),print(bukt4),print(bukt5),print(bukt6),print(bal_use_fil),print(pct_uso),print(pct_paid),print(hist)\n"
   ]
  },
  {
   "cell_type": "markdown",
   "metadata": {},
   "source": [
    "#### Numerales"
   ]
  },
  {
   "cell_type": "code",
   "execution_count": 24,
   "metadata": {},
   "outputs": [],
   "source": [
    "# Numeral 3\n",
    "num3 = np.where((bal_exp1 <= 0) and (bal_exp2 <= 0) and (bal_exp3 <= 0) and (bal_exp4 <= 0) ,1,0)\n",
    "# Numeral 3i\n",
    "num3i = np.where((num3 == 1) and (bal_realp1 == 0) and (bal_realp2 == 0) and (bal_realp3 == 0) and (bal_realp4 == 0) ,1,0)\n",
    "# Numeral 3ii\n",
    "num3ii = np.where((num3 == 1) and ((bal_realp1 > 0) | (bal_realp2 > 0) | (bal_realp3 > 0) | (bal_realp4 > 0)) ,1,0)\n",
    "# Numeral 4\n",
    "num4 = np.where((bal_exp1 <= 0) and ((bal_exp2 > 0) and (bal_exp3 > 0) and (bal_exp4 > 0)) ,1,0)\n",
    "# Numeral 5\n",
    "num5 = np.where((bal_use_fil == cred_lim) | (card_blok == 1) ,1,0)"
   ]
  },
  {
   "cell_type": "markdown",
   "metadata": {},
   "source": [
    "#### Risk Levels"
   ]
  },
  {
   "cell_type": "code",
   "execution_count": 25,
   "metadata": {},
   "outputs": [],
   "source": [
    "# High level\n",
    "high = np.where((age <= v_age) and (cred_lim <= v1_crlim) ,1,0)\n",
    "# Medium Level\n",
    "medium = np.where(((age <= v_age) and (cred_lim > v2_crlim)) | ((age > v_age) and (cred_lim <= v1_crlim)) | ((cred_lim > v1_crlim) and (cred_lim <= v2_crlim)) ,1,0)\n",
    "# Low Level\n",
    "low = np.where((age > v_age) and (cred_lim > v1_crlim) ,1,0)"
   ]
  },
  {
   "cell_type": "markdown",
   "metadata": {},
   "source": [
    "#### Gveces"
   ]
  },
  {
   "cell_type": "code",
   "execution_count": 29,
   "metadata": {},
   "outputs": [],
   "source": [
    "gveces1 = np.where((min_pmt_req <= min_p),1,0)\n",
    "gveces2 = np.where((min_pmt_req > min_p) and ((bal_bur/min_pmt_req) < k) ,1,0)\n",
    "gveces3 = np.where((min_pmt_req > min_p) and ((bal_bur/min_pmt_req) >= k) ,1,0)"
   ]
  },
  {
   "cell_type": "code",
   "execution_count": 2,
   "metadata": {},
   "outputs": [],
   "source": [
    "import numpy as np"
   ]
  },
  {
   "cell_type": "code",
   "execution_count": 3,
   "metadata": {},
   "outputs": [
    {
     "data": {
      "text/plain": [
       "4"
      ]
     },
     "execution_count": 3,
     "metadata": {},
     "output_type": "execute_result"
    }
   ],
   "source": [
    "2+2"
   ]
  }
 ],
 "metadata": {
  "kernelspec": {
   "display_name": "Python 3",
   "language": "python",
   "name": "python3"
  },
  "language_info": {
   "codemirror_mode": {
    "name": "ipython",
    "version": 3
   },
   "file_extension": ".py",
   "mimetype": "text/x-python",
   "name": "python",
   "nbconvert_exporter": "python",
   "pygments_lexer": "ipython3",
   "version": "3.11.5"
  }
 },
 "nbformat": 4,
 "nbformat_minor": 2
}
